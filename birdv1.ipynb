{
 "cells": [
  {
   "cell_type": "code",
   "execution_count": 9,
   "metadata": {},
   "outputs": [
    {
     "name": "stdout",
     "output_type": "stream",
     "text": [
      "Defaulting to user installation because normal site-packages is not writeable\n",
      "Requirement already satisfied: opencv-python in /Users/grantmasilamani/Library/Python/3.9/lib/python/site-packages (4.8.0.76)\n",
      "Requirement already satisfied: numpy>=1.21.0 in /Users/grantmasilamani/Library/Python/3.9/lib/python/site-packages (from opencv-python) (1.26.0)\n",
      "Defaulting to user installation because normal site-packages is not writeable\n",
      "Requirement already satisfied: pyzbar in /Users/grantmasilamani/Library/Python/3.9/lib/python/site-packages (0.1.9)\n",
      "Defaulting to user installation because normal site-packages is not writeable\n",
      "Requirement already satisfied: pyzbar in /Users/grantmasilamani/Library/Python/3.9/lib/python/site-packages (0.1.9)\n",
      "Note: you may need to restart the kernel to use updated packages.\n",
      "Defaulting to user installation because normal site-packages is not writeable\n",
      "Requirement already satisfied: google-cloud-bigquery in /Users/grantmasilamani/Library/Python/3.9/lib/python/site-packages (3.11.4)\n",
      "Requirement already satisfied: grpcio<2.0dev,>=1.47.0 in /Users/grantmasilamani/Library/Python/3.9/lib/python/site-packages (from google-cloud-bigquery) (1.58.0)\n",
      "Requirement already satisfied: google-api-core[grpc]!=2.0.*,!=2.1.*,!=2.2.*,!=2.3.0,<3.0.0dev,>=1.31.5 in /Users/grantmasilamani/Library/Python/3.9/lib/python/site-packages (from google-cloud-bigquery) (2.11.1)\n",
      "Requirement already satisfied: proto-plus<2.0.0dev,>=1.15.0 in /Users/grantmasilamani/Library/Python/3.9/lib/python/site-packages (from google-cloud-bigquery) (1.22.3)\n",
      "Requirement already satisfied: google-cloud-core<3.0.0dev,>=1.6.0 in /Users/grantmasilamani/Library/Python/3.9/lib/python/site-packages (from google-cloud-bigquery) (2.3.3)\n",
      "Requirement already satisfied: google-resumable-media<3.0dev,>=0.6.0 in /Users/grantmasilamani/Library/Python/3.9/lib/python/site-packages (from google-cloud-bigquery) (2.6.0)\n",
      "Requirement already satisfied: packaging>=20.0.0 in /Users/grantmasilamani/Library/Python/3.9/lib/python/site-packages (from google-cloud-bigquery) (23.1)\n",
      "Requirement already satisfied: protobuf!=3.20.0,!=3.20.1,!=4.21.0,!=4.21.1,!=4.21.2,!=4.21.3,!=4.21.4,!=4.21.5,<5.0.0dev,>=3.19.5 in /Users/grantmasilamani/Library/Python/3.9/lib/python/site-packages (from google-cloud-bigquery) (4.24.3)\n",
      "Requirement already satisfied: python-dateutil<3.0dev,>=2.7.2 in /Users/grantmasilamani/Library/Python/3.9/lib/python/site-packages (from google-cloud-bigquery) (2.8.2)\n",
      "Requirement already satisfied: requests<3.0.0dev,>=2.21.0 in /Users/grantmasilamani/Library/Python/3.9/lib/python/site-packages (from google-cloud-bigquery) (2.31.0)\n",
      "Requirement already satisfied: googleapis-common-protos<2.0.dev0,>=1.56.2 in /Users/grantmasilamani/Library/Python/3.9/lib/python/site-packages (from google-api-core[grpc]!=2.0.*,!=2.1.*,!=2.2.*,!=2.3.0,<3.0.0dev,>=1.31.5->google-cloud-bigquery) (1.60.0)\n",
      "Requirement already satisfied: google-auth<3.0.dev0,>=2.14.1 in /Users/grantmasilamani/Library/Python/3.9/lib/python/site-packages (from google-api-core[grpc]!=2.0.*,!=2.1.*,!=2.2.*,!=2.3.0,<3.0.0dev,>=1.31.5->google-cloud-bigquery) (2.23.0)\n",
      "Requirement already satisfied: grpcio-status<2.0.dev0,>=1.33.2 in /Users/grantmasilamani/Library/Python/3.9/lib/python/site-packages (from google-api-core[grpc]!=2.0.*,!=2.1.*,!=2.2.*,!=2.3.0,<3.0.0dev,>=1.31.5->google-cloud-bigquery) (1.58.0)\n",
      "Requirement already satisfied: google-crc32c<2.0dev,>=1.0 in /Users/grantmasilamani/Library/Python/3.9/lib/python/site-packages (from google-resumable-media<3.0dev,>=0.6.0->google-cloud-bigquery) (1.5.0)\n",
      "Requirement already satisfied: six>=1.5 in /Library/Developer/CommandLineTools/Library/Frameworks/Python3.framework/Versions/3.9/lib/python3.9/site-packages (from python-dateutil<3.0dev,>=2.7.2->google-cloud-bigquery) (1.15.0)\n",
      "Requirement already satisfied: charset-normalizer<4,>=2 in /Users/grantmasilamani/Library/Python/3.9/lib/python/site-packages (from requests<3.0.0dev,>=2.21.0->google-cloud-bigquery) (3.2.0)\n",
      "Requirement already satisfied: idna<4,>=2.5 in /Users/grantmasilamani/Library/Python/3.9/lib/python/site-packages (from requests<3.0.0dev,>=2.21.0->google-cloud-bigquery) (3.4)\n",
      "Requirement already satisfied: urllib3<3,>=1.21.1 in /Users/grantmasilamani/Library/Python/3.9/lib/python/site-packages (from requests<3.0.0dev,>=2.21.0->google-cloud-bigquery) (1.26.16)\n",
      "Requirement already satisfied: certifi>=2017.4.17 in /Users/grantmasilamani/Library/Python/3.9/lib/python/site-packages (from requests<3.0.0dev,>=2.21.0->google-cloud-bigquery) (2023.7.22)\n",
      "Requirement already satisfied: cachetools<6.0,>=2.0.0 in /Users/grantmasilamani/Library/Python/3.9/lib/python/site-packages (from google-auth<3.0.dev0,>=2.14.1->google-api-core[grpc]!=2.0.*,!=2.1.*,!=2.2.*,!=2.3.0,<3.0.0dev,>=1.31.5->google-cloud-bigquery) (5.3.1)\n",
      "Requirement already satisfied: pyasn1-modules>=0.2.1 in /Users/grantmasilamani/Library/Python/3.9/lib/python/site-packages (from google-auth<3.0.dev0,>=2.14.1->google-api-core[grpc]!=2.0.*,!=2.1.*,!=2.2.*,!=2.3.0,<3.0.0dev,>=1.31.5->google-cloud-bigquery) (0.3.0)\n",
      "Requirement already satisfied: rsa<5,>=3.1.4 in /Users/grantmasilamani/Library/Python/3.9/lib/python/site-packages (from google-auth<3.0.dev0,>=2.14.1->google-api-core[grpc]!=2.0.*,!=2.1.*,!=2.2.*,!=2.3.0,<3.0.0dev,>=1.31.5->google-cloud-bigquery) (4.9)\n",
      "Requirement already satisfied: pyasn1<0.6.0,>=0.4.6 in /Users/grantmasilamani/Library/Python/3.9/lib/python/site-packages (from pyasn1-modules>=0.2.1->google-auth<3.0.dev0,>=2.14.1->google-api-core[grpc]!=2.0.*,!=2.1.*,!=2.2.*,!=2.3.0,<3.0.0dev,>=1.31.5->google-cloud-bigquery) (0.5.0)\n",
      "Note: you may need to restart the kernel to use updated packages.\n"
     ]
    },
    {
     "name": "stderr",
     "output_type": "stream",
     "text": [
      "UsageError: Line magic function `%brew` not found.\n"
     ]
    }
   ],
   "source": [
    "!/Library/Developer/CommandLineTools/usr/bin/python3 -m pip install opencv-python\n",
    "!/Library/Developer/CommandLineTools/usr/bin/python3 -m pip install pyzbar\n",
    "%pip install pyzbar\n",
    "%pip install --upgrade google-cloud-bigquery\n",
    "%brew install zbar"
   ]
  },
  {
   "cell_type": "code",
   "execution_count": 10,
   "metadata": {},
   "outputs": [
    {
     "name": "stdout",
     "output_type": "stream",
     "text": [
      "/Library/Developer/CommandLineTools/usr/bin/python3\n"
     ]
    },
    {
     "ename": "ImportError",
     "evalue": "Unable to find zbar shared library",
     "output_type": "error",
     "traceback": [
      "\u001b[0;31m---------------------------------------------------------------------------\u001b[0m",
      "\u001b[0;31mImportError\u001b[0m                               Traceback (most recent call last)",
      "\u001b[1;32m/Users/grantmasilamani/4882-001-finch-tracking/birdv1.ipynb Cell 2\u001b[0m line \u001b[0;36m4\n\u001b[1;32m      <a href='vscode-notebook-cell:/Users/grantmasilamani/4882-001-finch-tracking/birdv1.ipynb#W3sZmlsZQ%3D%3D?line=1'>2</a>\u001b[0m \u001b[39mprint\u001b[39m(sys\u001b[39m.\u001b[39mexecutable)\n\u001b[1;32m      <a href='vscode-notebook-cell:/Users/grantmasilamani/4882-001-finch-tracking/birdv1.ipynb#W3sZmlsZQ%3D%3D?line=2'>3</a>\u001b[0m \u001b[39mimport\u001b[39;00m \u001b[39mcv2\u001b[39;00m\n\u001b[0;32m----> <a href='vscode-notebook-cell:/Users/grantmasilamani/4882-001-finch-tracking/birdv1.ipynb#W3sZmlsZQ%3D%3D?line=3'>4</a>\u001b[0m \u001b[39mimport\u001b[39;00m \u001b[39mpyzbar\u001b[39;00m\u001b[39m.\u001b[39;00m\u001b[39mpyzbar\u001b[39;00m\n\u001b[1;32m      <a href='vscode-notebook-cell:/Users/grantmasilamani/4882-001-finch-tracking/birdv1.ipynb#W3sZmlsZQ%3D%3D?line=4'>5</a>\u001b[0m \u001b[39mfrom\u001b[39;00m \u001b[39mgoogle\u001b[39;00m\u001b[39m.\u001b[39;00m\u001b[39mcloud\u001b[39;00m \u001b[39mimport\u001b[39;00m bigquery\n\u001b[1;32m      <a href='vscode-notebook-cell:/Users/grantmasilamani/4882-001-finch-tracking/birdv1.ipynb#W3sZmlsZQ%3D%3D?line=5'>6</a>\u001b[0m \u001b[39mfrom\u001b[39;00m \u001b[39mdatetime\u001b[39;00m \u001b[39mimport\u001b[39;00m datetime\n",
      "File \u001b[0;32m~/Library/Python/3.9/lib/python/site-packages/pyzbar/pyzbar.py:7\u001b[0m\n\u001b[1;32m      5\u001b[0m \u001b[39mfrom\u001b[39;00m \u001b[39m.\u001b[39;00m\u001b[39mlocations\u001b[39;00m \u001b[39mimport\u001b[39;00m bounding_box, convex_hull, Point, Rect\n\u001b[1;32m      6\u001b[0m \u001b[39mfrom\u001b[39;00m \u001b[39m.\u001b[39;00m\u001b[39mpyzbar_error\u001b[39;00m \u001b[39mimport\u001b[39;00m PyZbarError\n\u001b[0;32m----> 7\u001b[0m \u001b[39mfrom\u001b[39;00m \u001b[39m.\u001b[39;00m\u001b[39mwrapper\u001b[39;00m \u001b[39mimport\u001b[39;00m (\n\u001b[1;32m      8\u001b[0m     zbar_image_scanner_set_config,\n\u001b[1;32m      9\u001b[0m     zbar_image_scanner_create, zbar_image_scanner_destroy,\n\u001b[1;32m     10\u001b[0m     zbar_image_create, zbar_image_destroy, zbar_image_set_format,\n\u001b[1;32m     11\u001b[0m     zbar_image_set_size, zbar_image_set_data, zbar_scan_image,\n\u001b[1;32m     12\u001b[0m     zbar_image_first_symbol, zbar_symbol_get_data_length,\n\u001b[1;32m     13\u001b[0m     zbar_symbol_get_data, zbar_symbol_get_orientation,\n\u001b[1;32m     14\u001b[0m     zbar_symbol_get_loc_size, zbar_symbol_get_loc_x, zbar_symbol_get_loc_y,\n\u001b[1;32m     15\u001b[0m     zbar_symbol_get_quality, zbar_symbol_next, ZBarConfig, ZBarOrientation,\n\u001b[1;32m     16\u001b[0m     ZBarSymbol, EXTERNAL_DEPENDENCIES,\n\u001b[1;32m     17\u001b[0m )\n\u001b[1;32m     19\u001b[0m __all__ \u001b[39m=\u001b[39m [\n\u001b[1;32m     20\u001b[0m     \u001b[39m'\u001b[39m\u001b[39mdecode\u001b[39m\u001b[39m'\u001b[39m, \u001b[39m'\u001b[39m\u001b[39mPoint\u001b[39m\u001b[39m'\u001b[39m, \u001b[39m'\u001b[39m\u001b[39mRect\u001b[39m\u001b[39m'\u001b[39m, \u001b[39m'\u001b[39m\u001b[39mDecoded\u001b[39m\u001b[39m'\u001b[39m, \u001b[39m'\u001b[39m\u001b[39mZBarSymbol\u001b[39m\u001b[39m'\u001b[39m, \u001b[39m'\u001b[39m\u001b[39mEXTERNAL_DEPENDENCIES\u001b[39m\u001b[39m'\u001b[39m, \u001b[39m'\u001b[39m\u001b[39mORIENTATION_AVAILABLE\u001b[39m\u001b[39m'\u001b[39m\n\u001b[1;32m     21\u001b[0m ]\n\u001b[1;32m     24\u001b[0m ORIENTATION_AVAILABLE \u001b[39m=\u001b[39m zbar_symbol_get_orientation \u001b[39mis\u001b[39;00m \u001b[39mnot\u001b[39;00m \u001b[39mNone\u001b[39;00m\n",
      "File \u001b[0;32m~/Library/Python/3.9/lib/python/site-packages/pyzbar/wrapper.py:151\u001b[0m\n\u001b[1;32m    147\u001b[0m     prototype \u001b[39m=\u001b[39m CFUNCTYPE(restype, \u001b[39m*\u001b[39margs)\n\u001b[1;32m    148\u001b[0m     \u001b[39mreturn\u001b[39;00m prototype((fname, load_libzbar()))\n\u001b[0;32m--> 151\u001b[0m zbar_version \u001b[39m=\u001b[39m zbar_function(\n\u001b[1;32m    152\u001b[0m     \u001b[39m'\u001b[39;49m\u001b[39mzbar_version\u001b[39;49m\u001b[39m'\u001b[39;49m,\n\u001b[1;32m    153\u001b[0m     c_int,\n\u001b[1;32m    154\u001b[0m     c_uint_p,    \u001b[39m# major,\u001b[39;49;00m\n\u001b[1;32m    155\u001b[0m     c_uint_p,    \u001b[39m# minor\u001b[39;49;00m\n\u001b[1;32m    156\u001b[0m )\n\u001b[1;32m    158\u001b[0m zbar_set_verbosity \u001b[39m=\u001b[39m zbar_function(\n\u001b[1;32m    159\u001b[0m     \u001b[39m'\u001b[39m\u001b[39mzbar_set_verbosity\u001b[39m\u001b[39m'\u001b[39m,\n\u001b[1;32m    160\u001b[0m     \u001b[39mNone\u001b[39;00m,\n\u001b[1;32m    161\u001b[0m     c_int\n\u001b[1;32m    162\u001b[0m )\n\u001b[1;32m    164\u001b[0m zbar_image_scanner_create \u001b[39m=\u001b[39m zbar_function(\n\u001b[1;32m    165\u001b[0m     \u001b[39m'\u001b[39m\u001b[39mzbar_image_scanner_create\u001b[39m\u001b[39m'\u001b[39m,\n\u001b[1;32m    166\u001b[0m     POINTER(zbar_image_scanner)\n\u001b[1;32m    167\u001b[0m )\n",
      "File \u001b[0;32m~/Library/Python/3.9/lib/python/site-packages/pyzbar/wrapper.py:148\u001b[0m, in \u001b[0;36mzbar_function\u001b[0;34m(fname, restype, *args)\u001b[0m\n\u001b[1;32m    136\u001b[0m \u001b[39m\u001b[39m\u001b[39m\"\"\"Returns a foreign function exported by `zbar`.\u001b[39;00m\n\u001b[1;32m    137\u001b[0m \n\u001b[1;32m    138\u001b[0m \u001b[39mArgs:\u001b[39;00m\n\u001b[0;32m   (...)\u001b[0m\n\u001b[1;32m    145\u001b[0m \u001b[39m    cddl.CFunctionType: A wrapper around the function.\u001b[39;00m\n\u001b[1;32m    146\u001b[0m \u001b[39m\"\"\"\u001b[39;00m\n\u001b[1;32m    147\u001b[0m prototype \u001b[39m=\u001b[39m CFUNCTYPE(restype, \u001b[39m*\u001b[39margs)\n\u001b[0;32m--> 148\u001b[0m \u001b[39mreturn\u001b[39;00m prototype((fname, load_libzbar()))\n",
      "File \u001b[0;32m~/Library/Python/3.9/lib/python/site-packages/pyzbar/wrapper.py:127\u001b[0m, in \u001b[0;36mload_libzbar\u001b[0;34m()\u001b[0m\n\u001b[1;32m    125\u001b[0m \u001b[39mglobal\u001b[39;00m EXTERNAL_DEPENDENCIES\n\u001b[1;32m    126\u001b[0m \u001b[39mif\u001b[39;00m \u001b[39mnot\u001b[39;00m LIBZBAR:\n\u001b[0;32m--> 127\u001b[0m     libzbar, dependencies \u001b[39m=\u001b[39m zbar_library\u001b[39m.\u001b[39;49mload()\n\u001b[1;32m    128\u001b[0m     LIBZBAR \u001b[39m=\u001b[39m libzbar\n\u001b[1;32m    129\u001b[0m     EXTERNAL_DEPENDENCIES \u001b[39m=\u001b[39m [LIBZBAR] \u001b[39m+\u001b[39m dependencies\n",
      "File \u001b[0;32m~/Library/Python/3.9/lib/python/site-packages/pyzbar/zbar_library.py:65\u001b[0m, in \u001b[0;36mload\u001b[0;34m()\u001b[0m\n\u001b[1;32m     63\u001b[0m path \u001b[39m=\u001b[39m find_library(\u001b[39m'\u001b[39m\u001b[39mzbar\u001b[39m\u001b[39m'\u001b[39m)\n\u001b[1;32m     64\u001b[0m \u001b[39mif\u001b[39;00m \u001b[39mnot\u001b[39;00m path:\n\u001b[0;32m---> 65\u001b[0m     \u001b[39mraise\u001b[39;00m \u001b[39mImportError\u001b[39;00m(\u001b[39m'\u001b[39m\u001b[39mUnable to find zbar shared library\u001b[39m\u001b[39m'\u001b[39m)\n\u001b[1;32m     66\u001b[0m libzbar \u001b[39m=\u001b[39m cdll\u001b[39m.\u001b[39mLoadLibrary(path)\n\u001b[1;32m     67\u001b[0m dependencies \u001b[39m=\u001b[39m []\n",
      "\u001b[0;31mImportError\u001b[0m: Unable to find zbar shared library"
     ]
    }
   ],
   "source": [
    "import sys\n",
    "print(sys.executable)\n",
    "import cv2\n",
    "import pyzbar.pyzbar\n",
    "from google.cloud import bigquery\n",
    "from datetime import datetime\n",
    "import threading\n",
    "import time\n"
   ]
  },
  {
   "cell_type": "code",
   "execution_count": 1,
   "metadata": {},
   "outputs": [
    {
     "name": "stdout",
     "output_type": "stream",
     "text": [
      "/Library/Developer/CommandLineTools/usr/bin/python3\n",
      "Failed to grab frame\n"
     ]
    }
   ],
   "source": [
    "import sys\n",
    "print(sys.executable)\n",
    "\n",
    "\n",
    "\n",
    "import cv2\n",
    "import pyzbar.zbar_library\n",
    "\n",
    "from google.cloud import bigquery\n",
    "from datetime import datetime\n",
    "import threading\n",
    "import time\n",
    "\n",
    "client = bigquery.Client(project='finch-project-399922')\n",
    "table_id = \"finch_beta_table\"\n",
    "batched_data = []\n",
    "data_lock = threading.Lock()\n",
    "upload_interval = 5 * 60  # Time in seconds\n",
    "\n",
    "\n",
    "def insert_rows_to_bigquery():\n",
    "    while True:\n",
    "        time.sleep(upload_interval)\n",
    "        with data_lock:\n",
    "            if not batched_data:\n",
    "                continue\n",
    "            data_to_insert = batched_data.copy()\n",
    "            batched_data.clear()\n",
    "        \n",
    "        rows_to_insert = [{\"qr_data\": data, \"timestamp\": timestamp} for data, timestamp in data_to_insert]\n",
    "        errors = client.insert_rows_json(table_id, rows_to_insert)\n",
    "        if errors:\n",
    "            print(\"Encountered errors while inserting rows: {}\".format(errors))\n",
    "\n",
    "\n",
    "def main():\n",
    "    upload_thread = threading.Thread(target=insert_rows_to_bigquery, daemon=True)\n",
    "    upload_thread.start()\n",
    "\n",
    "    cap = cv2.VideoCapture(0)  # Changed from ImageCapture to VideoCapture\n",
    "\n",
    "    if not cap.isOpened():\n",
    "        print(\"Could not open webcam\")\n",
    "        exit()\n",
    "\n",
    "    while True:\n",
    "        ret, frame = cap.read()\n",
    "        if not ret:\n",
    "            print(\"Failed to grab frame\")\n",
    "            break\n",
    "        \n",
    "        decoded_objects = decode(frame)\n",
    "        for obj in decoded_objects:\n",
    "            qr_data = obj.data.decode('utf-8')\n",
    "            print(\"QR Data: \", qr_data)\n",
    "            with data_lock:\n",
    "                batched_data.append((qr_data, datetime.utcnow()))\n",
    "\n",
    "        cv2.imshow(\"QR Code Scanner\", frame)\n",
    "\n",
    "        if cv2.waitKey(1) & 0xFF == ord('q'):\n",
    "            break\n",
    "\n",
    "    cap.release()\n",
    "    cv2.destroyAllWindows()\n",
    "\n",
    "\n",
    "if __name__ == \"__main__\":\n",
    "    main()\n"
   ]
  },
  {
   "cell_type": "code",
   "execution_count": null,
   "metadata": {},
   "outputs": [],
   "source": []
  }
 ],
 "metadata": {
  "kernelspec": {
   "display_name": "Python 3",
   "language": "python",
   "name": "python3"
  },
  "language_info": {
   "codemirror_mode": {
    "name": "ipython",
    "version": 3
   },
   "file_extension": ".py",
   "mimetype": "text/x-python",
   "name": "python",
   "nbconvert_exporter": "python",
   "pygments_lexer": "ipython3",
   "version": "3.9.6"
  },
  "orig_nbformat": 4
 },
 "nbformat": 4,
 "nbformat_minor": 2
}
